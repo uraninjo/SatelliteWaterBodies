{
 "cells": [
  {
   "cell_type": "code",
   "execution_count": 2,
   "metadata": {},
   "outputs": [
    {
     "name": "stdout",
     "output_type": "stream",
     "text": [
      "satellite-images-of-water-bodies.zip: Skipping, found more recently modified local copy (use --force to force download)\n",
      "satellite-images-of-water-bodies.zip\n"
     ]
    }
   ],
   "source": [
    "!kaggle datasets download -d franciscoescobar/satellite-images-of-water-bodies\n",
    "from zipfile import ZipFile\n",
    "import os\n",
    "for i in os.listdir('C:/Users/mehmu/Desktop/PyProjects/Projects/github repo/SatelliteWaterBodies'):\n",
    "    if '.zip' in i:\n",
    "        print(i)\n",
    "        with ZipFile(i, 'r') as zipObj:\n",
    "            zipObj.extractall()\n",
    "        os.remove(i)"
   ]
  },
  {
   "cell_type": "code",
   "execution_count": null,
   "metadata": {},
   "outputs": [],
   "source": []
  }
 ],
 "metadata": {
  "kernelspec": {
   "display_name": "Python 3.10.5 64-bit (system)",
   "language": "python",
   "name": "python3"
  },
  "language_info": {
   "codemirror_mode": {
    "name": "ipython",
    "version": 3
   },
   "file_extension": ".py",
   "mimetype": "text/x-python",
   "name": "python",
   "nbconvert_exporter": "python",
   "pygments_lexer": "ipython3",
   "version": "3.10.5"
  },
  "orig_nbformat": 4,
  "vscode": {
   "interpreter": {
    "hash": "a7d98f6a89a2cc2c3b451a8bb432008958aa7c83c5ffc793c3e15255d944d91d"
   }
  }
 },
 "nbformat": 4,
 "nbformat_minor": 2
}
